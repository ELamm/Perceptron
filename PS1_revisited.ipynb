{
 "cells": [
  {
   "cell_type": "code",
   "execution_count": 161,
   "metadata": {
    "collapsed": true
   },
   "outputs": [],
   "source": [
    "%matplotlib inline"
   ]
  },
  {
   "cell_type": "code",
   "execution_count": 162,
   "metadata": {
    "collapsed": true
   },
   "outputs": [],
   "source": [
    "import pandas as pd\n",
    "import numpy as np\n",
    "from matplotlib import pyplot as plt"
   ]
  },
  {
   "cell_type": "code",
   "execution_count": 163,
   "metadata": {
    "collapsed": true
   },
   "outputs": [],
   "source": [
    "trainIn = pd.read_table('spam_train.txt', header=None, names=['input'])\n",
    "testIn = pd.read_table('spam_test.txt', header=None, names=['input'])"
   ]
  },
  {
   "cell_type": "code",
   "execution_count": 164,
   "metadata": {},
   "outputs": [
    {
     "data": {
      "text/html": [
       "<div>\n",
       "<style>\n",
       "    .dataframe thead tr:only-child th {\n",
       "        text-align: right;\n",
       "    }\n",
       "\n",
       "    .dataframe thead th {\n",
       "        text-align: left;\n",
       "    }\n",
       "\n",
       "    .dataframe tbody tr th {\n",
       "        vertical-align: top;\n",
       "    }\n",
       "</style>\n",
       "<table border=\"1\" class=\"dataframe\">\n",
       "  <thead>\n",
       "    <tr style=\"text-align: right;\">\n",
       "      <th></th>\n",
       "      <th>input</th>\n",
       "    </tr>\n",
       "  </thead>\n",
       "  <tbody>\n",
       "    <tr>\n",
       "      <th>0</th>\n",
       "      <td>1 public announc the new domain name ar final ...</td>\n",
       "    </tr>\n",
       "    <tr>\n",
       "      <th>1</th>\n",
       "      <td>1 have tax problem do you ow the ir monei if y...</td>\n",
       "    </tr>\n",
       "    <tr>\n",
       "      <th>2</th>\n",
       "      <td>0 r robert harlei write r scuse me for post in...</td>\n",
       "    </tr>\n",
       "    <tr>\n",
       "      <th>3</th>\n",
       "      <td>0 on wed number oct number brian fahrland wrot...</td>\n",
       "    </tr>\n",
       "    <tr>\n",
       "      <th>4</th>\n",
       "      <td>0 quot ronan waid sure but soft link would do ...</td>\n",
       "    </tr>\n",
       "    <tr>\n",
       "      <th>5</th>\n",
       "      <td>0 i notic a low count of razor d spam messag s...</td>\n",
       "    </tr>\n",
       "    <tr>\n",
       "      <th>6</th>\n",
       "      <td>1 nigeria electirc power author feder secretar...</td>\n",
       "    </tr>\n",
       "    <tr>\n",
       "      <th>7</th>\n",
       "      <td>0 on mon number sep number tom wrote if the se...</td>\n",
       "    </tr>\n",
       "    <tr>\n",
       "      <th>8</th>\n",
       "      <td>0 shopper newslett alert live tech help now ap...</td>\n",
       "    </tr>\n",
       "    <tr>\n",
       "      <th>9</th>\n",
       "      <td>0 httpaddr summari split up from end in num pr...</td>\n",
       "    </tr>\n",
       "  </tbody>\n",
       "</table>\n",
       "</div>"
      ],
      "text/plain": [
       "                                               input\n",
       "0  1 public announc the new domain name ar final ...\n",
       "1  1 have tax problem do you ow the ir monei if y...\n",
       "2  0 r robert harlei write r scuse me for post in...\n",
       "3  0 on wed number oct number brian fahrland wrot...\n",
       "4  0 quot ronan waid sure but soft link would do ...\n",
       "5  0 i notic a low count of razor d spam messag s...\n",
       "6  1 nigeria electirc power author feder secretar...\n",
       "7  0 on mon number sep number tom wrote if the se...\n",
       "8  0 shopper newslett alert live tech help now ap...\n",
       "9  0 httpaddr summari split up from end in num pr..."
      ]
     },
     "execution_count": 164,
     "metadata": {},
     "output_type": "execute_result"
    }
   ],
   "source": [
    "trainIn[:10]"
   ]
  },
  {
   "cell_type": "code",
   "execution_count": 165,
   "metadata": {},
   "outputs": [
    {
     "data": {
      "text/plain": [
       "'1 public announc the new domain name ar final avail to the gener public at discount price now you can regist on of the excit new biz or info domain name as well as the origin com and net name for just dollarnumb number these brand new domain extens were recent approv by icann and have the same right as the origin com and net domain name the biggest benefit is of cours that the biz and info domain name ar current more avail i e it will be much easier to regist an attract and easi to rememb domain name for the same price visit httpaddr todai for more info regist your domain name todai for just dollarnumb number at httpaddr registr fee includ full access to an easi to us control panel to manag your domain name in the futur sincer domain administr afford domain to remov your email address from further promot mail from thi compani click here httpaddr number numberreyonumb numberzkcvnumbertdvrnumb numberilirnumberwysonumb numberauornumberjqxznumb numberlnumb'"
      ]
     },
     "execution_count": 165,
     "metadata": {},
     "output_type": "execute_result"
    }
   ],
   "source": [
    "trainIn['input'][0]"
   ]
  },
  {
   "cell_type": "code",
   "execution_count": 166,
   "metadata": {
    "collapsed": true
   },
   "outputs": [],
   "source": [
    "# Parse out labels & convert 0 labels to -1\n",
    "trainIn['spam_ind'] = [2*int(x[0])-1 for x in trainIn['input']]\n",
    "trainIn['email_data'] = [x[1:] for x in trainIn['input']]\n",
    "del trainIn['input']\n",
    "\n",
    "testIn['spam_ind'] = [2*int(x[0])-1 for x in testIn['input']]\n",
    "testIn['email_data'] = [x[1:] for x in testIn['input']]\n",
    "del testIn['input']"
   ]
  },
  {
   "cell_type": "code",
   "execution_count": 167,
   "metadata": {},
   "outputs": [
    {
     "data": {
      "text/html": [
       "<div>\n",
       "<style>\n",
       "    .dataframe thead tr:only-child th {\n",
       "        text-align: right;\n",
       "    }\n",
       "\n",
       "    .dataframe thead th {\n",
       "        text-align: left;\n",
       "    }\n",
       "\n",
       "    .dataframe tbody tr th {\n",
       "        vertical-align: top;\n",
       "    }\n",
       "</style>\n",
       "<table border=\"1\" class=\"dataframe\">\n",
       "  <thead>\n",
       "    <tr style=\"text-align: right;\">\n",
       "      <th></th>\n",
       "      <th>spam_ind</th>\n",
       "      <th>email_data</th>\n",
       "    </tr>\n",
       "  </thead>\n",
       "  <tbody>\n",
       "    <tr>\n",
       "      <th>0</th>\n",
       "      <td>1</td>\n",
       "      <td>public announc the new domain name ar final a...</td>\n",
       "    </tr>\n",
       "    <tr>\n",
       "      <th>1</th>\n",
       "      <td>1</td>\n",
       "      <td>have tax problem do you ow the ir monei if yo...</td>\n",
       "    </tr>\n",
       "    <tr>\n",
       "      <th>2</th>\n",
       "      <td>-1</td>\n",
       "      <td>r robert harlei write r scuse me for post in ...</td>\n",
       "    </tr>\n",
       "    <tr>\n",
       "      <th>3</th>\n",
       "      <td>-1</td>\n",
       "      <td>on wed number oct number brian fahrland wrote...</td>\n",
       "    </tr>\n",
       "    <tr>\n",
       "      <th>4</th>\n",
       "      <td>-1</td>\n",
       "      <td>quot ronan waid sure but soft link would do t...</td>\n",
       "    </tr>\n",
       "    <tr>\n",
       "      <th>5</th>\n",
       "      <td>-1</td>\n",
       "      <td>i notic a low count of razor d spam messag so...</td>\n",
       "    </tr>\n",
       "    <tr>\n",
       "      <th>6</th>\n",
       "      <td>1</td>\n",
       "      <td>nigeria electirc power author feder secretari...</td>\n",
       "    </tr>\n",
       "    <tr>\n",
       "      <th>7</th>\n",
       "      <td>-1</td>\n",
       "      <td>on mon number sep number tom wrote if the set...</td>\n",
       "    </tr>\n",
       "    <tr>\n",
       "      <th>8</th>\n",
       "      <td>-1</td>\n",
       "      <td>shopper newslett alert live tech help now apr...</td>\n",
       "    </tr>\n",
       "    <tr>\n",
       "      <th>9</th>\n",
       "      <td>-1</td>\n",
       "      <td>httpaddr summari split up from end in num pro...</td>\n",
       "    </tr>\n",
       "  </tbody>\n",
       "</table>\n",
       "</div>"
      ],
      "text/plain": [
       "   spam_ind                                         email_data\n",
       "0         1   public announc the new domain name ar final a...\n",
       "1         1   have tax problem do you ow the ir monei if yo...\n",
       "2        -1   r robert harlei write r scuse me for post in ...\n",
       "3        -1   on wed number oct number brian fahrland wrote...\n",
       "4        -1   quot ronan waid sure but soft link would do t...\n",
       "5        -1   i notic a low count of razor d spam messag so...\n",
       "6         1   nigeria electirc power author feder secretari...\n",
       "7        -1   on mon number sep number tom wrote if the set...\n",
       "8        -1   shopper newslett alert live tech help now apr...\n",
       "9        -1   httpaddr summari split up from end in num pro..."
      ]
     },
     "execution_count": 167,
     "metadata": {},
     "output_type": "execute_result"
    }
   ],
   "source": [
    "trainIn[:10]"
   ]
  },
  {
   "cell_type": "code",
   "execution_count": 168,
   "metadata": {},
   "outputs": [
    {
     "data": {
      "text/plain": [
       "' public announc the new domain name ar final avail to the gener public at discount price now you can regist on of the excit new biz or info domain name as well as the origin com and net name for just dollarnumb number these brand new domain extens were recent approv by icann and have the same right as the origin com and net domain name the biggest benefit is of cours that the biz and info domain name ar current more avail i e it will be much easier to regist an attract and easi to rememb domain name for the same price visit httpaddr todai for more info regist your domain name todai for just dollarnumb number at httpaddr registr fee includ full access to an easi to us control panel to manag your domain name in the futur sincer domain administr afford domain to remov your email address from further promot mail from thi compani click here httpaddr number numberreyonumb numberzkcvnumbertdvrnumb numberilirnumberwysonumb numberauornumberjqxznumb numberlnumb'"
      ]
     },
     "execution_count": 168,
     "metadata": {},
     "output_type": "execute_result"
    }
   ],
   "source": [
    "trainIn['email_data'][0]"
   ]
  },
  {
   "cell_type": "code",
   "execution_count": 169,
   "metadata": {
    "collapsed": true
   },
   "outputs": [],
   "source": [
    "counts = pd.DataFrame(trainIn['spam_ind'].value_counts())\n",
    "pcts = pd.DataFrame(trainIn['spam_ind'].value_counts(normalize=True))\n",
    "summ = pd.merge(counts, pcts, suffixes=('_count', '_pct'), left_index=True, right_index=True)"
   ]
  },
  {
   "cell_type": "code",
   "execution_count": 170,
   "metadata": {},
   "outputs": [
    {
     "data": {
      "text/html": [
       "<div>\n",
       "<style>\n",
       "    .dataframe thead tr:only-child th {\n",
       "        text-align: right;\n",
       "    }\n",
       "\n",
       "    .dataframe thead th {\n",
       "        text-align: left;\n",
       "    }\n",
       "\n",
       "    .dataframe tbody tr th {\n",
       "        vertical-align: top;\n",
       "    }\n",
       "</style>\n",
       "<table border=\"1\" class=\"dataframe\">\n",
       "  <thead>\n",
       "    <tr style=\"text-align: right;\">\n",
       "      <th></th>\n",
       "      <th>spam_ind_count</th>\n",
       "      <th>spam_ind_pct</th>\n",
       "    </tr>\n",
       "  </thead>\n",
       "  <tbody>\n",
       "    <tr>\n",
       "      <th>-1</th>\n",
       "      <td>3430</td>\n",
       "      <td>0.686</td>\n",
       "    </tr>\n",
       "    <tr>\n",
       "      <th>1</th>\n",
       "      <td>1570</td>\n",
       "      <td>0.314</td>\n",
       "    </tr>\n",
       "  </tbody>\n",
       "</table>\n",
       "</div>"
      ],
      "text/plain": [
       "    spam_ind_count  spam_ind_pct\n",
       "-1            3430         0.686\n",
       " 1            1570         0.314"
      ]
     },
     "execution_count": 170,
     "metadata": {},
     "output_type": "execute_result"
    }
   ],
   "source": [
    "summ"
   ]
  },
  {
   "cell_type": "code",
   "execution_count": 171,
   "metadata": {
    "collapsed": true
   },
   "outputs": [],
   "source": [
    "# 1. Split overall training set into training set and validate set\n",
    "# typicall would select random inputs into train & validate\n",
    "train = pd.DataFrame(trainIn[:4000])\n",
    "validate = pd.DataFrame(trainIn[4000:])"
   ]
  },
  {
   "cell_type": "code",
   "execution_count": 172,
   "metadata": {},
   "outputs": [
    {
     "name": "stdout",
     "output_type": "stream",
     "text": [
      "Training Set Summary:\n"
     ]
    },
    {
     "data": {
      "text/html": [
       "<div>\n",
       "<style>\n",
       "    .dataframe thead tr:only-child th {\n",
       "        text-align: right;\n",
       "    }\n",
       "\n",
       "    .dataframe thead th {\n",
       "        text-align: left;\n",
       "    }\n",
       "\n",
       "    .dataframe tbody tr th {\n",
       "        vertical-align: top;\n",
       "    }\n",
       "</style>\n",
       "<table border=\"1\" class=\"dataframe\">\n",
       "  <thead>\n",
       "    <tr style=\"text-align: right;\">\n",
       "      <th></th>\n",
       "      <th>spam_ind_count</th>\n",
       "      <th>spam_ind_pct</th>\n",
       "    </tr>\n",
       "  </thead>\n",
       "  <tbody>\n",
       "    <tr>\n",
       "      <th>-1</th>\n",
       "      <td>2745</td>\n",
       "      <td>0.68625</td>\n",
       "    </tr>\n",
       "    <tr>\n",
       "      <th>1</th>\n",
       "      <td>1255</td>\n",
       "      <td>0.31375</td>\n",
       "    </tr>\n",
       "  </tbody>\n",
       "</table>\n",
       "</div>"
      ],
      "text/plain": [
       "    spam_ind_count  spam_ind_pct\n",
       "-1            2745       0.68625\n",
       " 1            1255       0.31375"
      ]
     },
     "execution_count": 172,
     "metadata": {},
     "output_type": "execute_result"
    }
   ],
   "source": [
    "trainingSumm = pd.merge(pd.DataFrame(train['spam_ind'].value_counts()), pd.DataFrame(train['spam_ind'].value_counts(normalize=True)),\n",
    "                        suffixes=('_count', '_pct'), left_index=True, right_index=True)\n",
    "print('Training Set Summary:')\n",
    "trainingSumm"
   ]
  },
  {
   "cell_type": "code",
   "execution_count": 173,
   "metadata": {},
   "outputs": [
    {
     "name": "stdout",
     "output_type": "stream",
     "text": [
      "Validation Set Summary:\n"
     ]
    },
    {
     "data": {
      "text/html": [
       "<div>\n",
       "<style>\n",
       "    .dataframe thead tr:only-child th {\n",
       "        text-align: right;\n",
       "    }\n",
       "\n",
       "    .dataframe thead th {\n",
       "        text-align: left;\n",
       "    }\n",
       "\n",
       "    .dataframe tbody tr th {\n",
       "        vertical-align: top;\n",
       "    }\n",
       "</style>\n",
       "<table border=\"1\" class=\"dataframe\">\n",
       "  <thead>\n",
       "    <tr style=\"text-align: right;\">\n",
       "      <th></th>\n",
       "      <th>spam_ind_count</th>\n",
       "      <th>spam_ind_pct</th>\n",
       "    </tr>\n",
       "  </thead>\n",
       "  <tbody>\n",
       "    <tr>\n",
       "      <th>-1</th>\n",
       "      <td>685</td>\n",
       "      <td>0.685</td>\n",
       "    </tr>\n",
       "    <tr>\n",
       "      <th>1</th>\n",
       "      <td>315</td>\n",
       "      <td>0.315</td>\n",
       "    </tr>\n",
       "  </tbody>\n",
       "</table>\n",
       "</div>"
      ],
      "text/plain": [
       "    spam_ind_count  spam_ind_pct\n",
       "-1             685         0.685\n",
       " 1             315         0.315"
      ]
     },
     "execution_count": 173,
     "metadata": {},
     "output_type": "execute_result"
    }
   ],
   "source": [
    "validationSumm = pd.merge(pd.DataFrame(validate['spam_ind'].value_counts()), pd.DataFrame(validate['spam_ind'].value_counts(normalize=True)),\n",
    "                          suffixes=('_count', '_pct'), left_index=True, right_index=True)\n",
    "print('Validation Set Summary:')\n",
    "validationSumm"
   ]
  },
  {
   "cell_type": "code",
   "execution_count": 174,
   "metadata": {},
   "outputs": [
    {
     "data": {
      "text/plain": [
       "' public announc the new domain name ar final avail to the gener public at discount price now you can regist on of the excit new biz or info domain name as well as the origin com and net name for just dollarnumb number these brand new domain extens were recent approv by icann and have the same right as the origin com and net domain name the biggest benefit is of cours that the biz and info domain name ar current more avail i e it will be much easier to regist an attract and easi to rememb domain name for the same price visit httpaddr todai for more info regist your domain name todai for just dollarnumb number at httpaddr registr fee includ full access to an easi to us control panel to manag your domain name in the futur sincer domain administr afford domain to remov your email address from further promot mail from thi compani click here httpaddr number numberreyonumb numberzkcvnumbertdvrnumb numberilirnumberwysonumb numberauornumberjqxznumb numberlnumb'"
      ]
     },
     "execution_count": 174,
     "metadata": {},
     "output_type": "execute_result"
    }
   ],
   "source": [
    "train['email_data'][0]"
   ]
  },
  {
   "cell_type": "code",
   "execution_count": 175,
   "metadata": {},
   "outputs": [
    {
     "name": "stdout",
     "output_type": "stream",
     "text": [
      "Number of words in total vocabulary: 55232\n"
     ]
    }
   ],
   "source": [
    "# 2. Transform all the data into feature vectors\n",
    "\n",
    "#    Find all the words that occur in the training set\n",
    "totalVocab = {}\n",
    "# keys = words\n",
    "# values = counts\n",
    "for mail in train['email_data']:\n",
    "    # use set so that you only count each word max 1X per email\n",
    "    for word in set(mail.split()):\n",
    "        totalVocab.setdefault(word, 0)\n",
    "        totalVocab[word] += 1\n",
    "\n",
    "print('Number of words in total vocabulary: '+str(len(totalVocab.keys())))"
   ]
  },
  {
   "cell_type": "code",
   "execution_count": 176,
   "metadata": {
    "collapsed": true
   },
   "outputs": [],
   "source": [
    "# Ignore all words that appear in fewer than X = 30 e-mails of the 4000 e-mail training set\n",
    "# (i.e. remove all words occuring in fewer than X=30 e-mails)\n",
    "narrowedVocab = {word:count for word, count in zip(totalVocab.keys(), totalVocab.values()) if count >= 30}"
   ]
  },
  {
   "cell_type": "code",
   "execution_count": 177,
   "metadata": {},
   "outputs": [
    {
     "name": "stdout",
     "output_type": "stream",
     "text": [
      "Minimum Number of occurrences: 30\n",
      "Number of words in narrowed vocabulary: 2376\n",
      "Percentage of total vocabulary in narrowed vocabulary: 4.30%\n"
     ]
    }
   ],
   "source": [
    "print('Minimum Number of occurrences: '+str(min(narrowedVocab.values())))\n",
    "print('Number of words in narrowed vocabulary: '+str(len(narrowedVocab.keys())))\n",
    "print('Percentage of total vocabulary in narrowed vocabulary: '+'{:2.2f}'.format(len(narrowedVocab.keys())*100/len(totalVocab.keys()))+'%')"
   ]
  },
  {
   "cell_type": "code",
   "execution_count": 178,
   "metadata": {
    "collapsed": true
   },
   "outputs": [],
   "source": [
    "# For each email, transform it into a feature vector x where the ith entry, xi, \n",
    "# is 1 if the ith word in the vocabulary occurs in the email, and 0 otherwise.\n",
    "\n",
    "# Arrays to hold the feature vectors\n",
    "trainFeatures = np.empty((train['email_data'].size, len(narrowedVocab.keys())), dtype=int)\n",
    "validateFeatures = np.empty((validate['email_data'].size, len(narrowedVocab.keys())), dtype=int)"
   ]
  },
  {
   "cell_type": "code",
   "execution_count": 179,
   "metadata": {
    "collapsed": true
   },
   "outputs": [],
   "source": [
    "# populate training set array\n",
    "words = narrowedVocab.keys()\n",
    "for i in range(0, train['email_data'].size):\n",
    "    j=0\n",
    "    split_word = set(train['email_data'][i].split())\n",
    "    for word in words:\n",
    "        if word in split_word:\n",
    "            trainFeatures[i][j] = 1\n",
    "        else:\n",
    "            trainFeatures[i][j] = 0\n",
    "        j = j+1"
   ]
  },
  {
   "cell_type": "code",
   "execution_count": 180,
   "metadata": {},
   "outputs": [
    {
     "name": "stdout",
     "output_type": "stream",
     "text": [
      "(4000, 2376)\n",
      "[  75 3154 2995 ...,   33   33   44]\n",
      "(2376,)\n",
      "30\n"
     ]
    }
   ],
   "source": [
    "print(trainFeatures.shape)\n",
    "print(trainFeatures.sum(axis=0))\n",
    "print(trainFeatures.sum(axis=0).shape)\n",
    "print(trainFeatures.sum(axis=0).min())"
   ]
  },
  {
   "cell_type": "code",
   "execution_count": 181,
   "metadata": {
    "collapsed": true
   },
   "outputs": [],
   "source": [
    "# populate validation set array\n",
    "for i in validate.index:\n",
    "    j=0\n",
    "    split_word = set(validate['email_data'][i].split())\n",
    "    for word in words:\n",
    "        if word in split_word:\n",
    "            validateFeatures[i-validate.index[0]][j] = 1\n",
    "        else:\n",
    "            validateFeatures[i-validate.index[0]][j] = 0\n",
    "        j = j + 1"
   ]
  },
  {
   "cell_type": "code",
   "execution_count": 182,
   "metadata": {},
   "outputs": [
    {
     "name": "stdout",
     "output_type": "stream",
     "text": [
      "(1000, 2376)\n",
      "[ 18 782 749 ...,   7  13  13]\n",
      "(2376,)\n",
      "3\n"
     ]
    }
   ],
   "source": [
    "print(validateFeatures.shape)\n",
    "print(validateFeatures.sum(axis=0))\n",
    "print(validateFeatures.sum(axis=0).shape)\n",
    "print(validateFeatures.sum(axis=0).min())"
   ]
  },
  {
   "cell_type": "code",
   "execution_count": 183,
   "metadata": {
    "collapsed": true
   },
   "outputs": [],
   "source": [
    "# put array values into data frames\n",
    "ind = 0\n",
    "for word in narrowedVocab.keys():\n",
    "    train[word]=trainFeatures[:,ind]\n",
    "    validate[word]=validateFeatures[:,ind]\n",
    "    ind = ind + 1"
   ]
  },
  {
   "cell_type": "code",
   "execution_count": 184,
   "metadata": {
    "collapsed": true
   },
   "outputs": [],
   "source": [
    "del train['email_data']\n",
    "del validate['email_data']"
   ]
  },
  {
   "cell_type": "code",
   "execution_count": 185,
   "metadata": {},
   "outputs": [
    {
     "data": {
      "text/html": [
       "<div>\n",
       "<style>\n",
       "    .dataframe thead tr:only-child th {\n",
       "        text-align: right;\n",
       "    }\n",
       "\n",
       "    .dataframe thead th {\n",
       "        text-align: left;\n",
       "    }\n",
       "\n",
       "    .dataframe tbody tr th {\n",
       "        vertical-align: top;\n",
       "    }\n",
       "</style>\n",
       "<table border=\"1\" class=\"dataframe\">\n",
       "  <thead>\n",
       "    <tr style=\"text-align: right;\">\n",
       "      <th></th>\n",
       "      <th>spam_ind</th>\n",
       "      <th>brand</th>\n",
       "      <th>and</th>\n",
       "      <th>httpaddr</th>\n",
       "      <th>administr</th>\n",
       "      <th>easier</th>\n",
       "      <th>have</th>\n",
       "      <th>easi</th>\n",
       "      <th>control</th>\n",
       "      <th>biggest</th>\n",
       "      <th>...</th>\n",
       "      <th>complic</th>\n",
       "      <th>plugin</th>\n",
       "      <th>expos</th>\n",
       "      <th>concept</th>\n",
       "      <th>crazi</th>\n",
       "      <th>chines</th>\n",
       "      <th>approxim</th>\n",
       "      <th>newspap</th>\n",
       "      <th>weapon</th>\n",
       "      <th>invit</th>\n",
       "    </tr>\n",
       "  </thead>\n",
       "  <tbody>\n",
       "    <tr>\n",
       "      <th>0</th>\n",
       "      <td>1</td>\n",
       "      <td>1</td>\n",
       "      <td>1</td>\n",
       "      <td>1</td>\n",
       "      <td>1</td>\n",
       "      <td>1</td>\n",
       "      <td>1</td>\n",
       "      <td>1</td>\n",
       "      <td>1</td>\n",
       "      <td>1</td>\n",
       "      <td>...</td>\n",
       "      <td>0</td>\n",
       "      <td>0</td>\n",
       "      <td>0</td>\n",
       "      <td>0</td>\n",
       "      <td>0</td>\n",
       "      <td>0</td>\n",
       "      <td>0</td>\n",
       "      <td>0</td>\n",
       "      <td>0</td>\n",
       "      <td>0</td>\n",
       "    </tr>\n",
       "    <tr>\n",
       "      <th>1</th>\n",
       "      <td>1</td>\n",
       "      <td>0</td>\n",
       "      <td>1</td>\n",
       "      <td>0</td>\n",
       "      <td>0</td>\n",
       "      <td>0</td>\n",
       "      <td>1</td>\n",
       "      <td>0</td>\n",
       "      <td>0</td>\n",
       "      <td>0</td>\n",
       "      <td>...</td>\n",
       "      <td>0</td>\n",
       "      <td>0</td>\n",
       "      <td>0</td>\n",
       "      <td>0</td>\n",
       "      <td>0</td>\n",
       "      <td>0</td>\n",
       "      <td>0</td>\n",
       "      <td>0</td>\n",
       "      <td>0</td>\n",
       "      <td>0</td>\n",
       "    </tr>\n",
       "    <tr>\n",
       "      <th>2</th>\n",
       "      <td>-1</td>\n",
       "      <td>0</td>\n",
       "      <td>0</td>\n",
       "      <td>1</td>\n",
       "      <td>0</td>\n",
       "      <td>0</td>\n",
       "      <td>0</td>\n",
       "      <td>0</td>\n",
       "      <td>0</td>\n",
       "      <td>0</td>\n",
       "      <td>...</td>\n",
       "      <td>0</td>\n",
       "      <td>0</td>\n",
       "      <td>0</td>\n",
       "      <td>0</td>\n",
       "      <td>0</td>\n",
       "      <td>0</td>\n",
       "      <td>0</td>\n",
       "      <td>0</td>\n",
       "      <td>0</td>\n",
       "      <td>0</td>\n",
       "    </tr>\n",
       "    <tr>\n",
       "      <th>3</th>\n",
       "      <td>-1</td>\n",
       "      <td>0</td>\n",
       "      <td>1</td>\n",
       "      <td>1</td>\n",
       "      <td>0</td>\n",
       "      <td>0</td>\n",
       "      <td>1</td>\n",
       "      <td>0</td>\n",
       "      <td>0</td>\n",
       "      <td>0</td>\n",
       "      <td>...</td>\n",
       "      <td>0</td>\n",
       "      <td>0</td>\n",
       "      <td>0</td>\n",
       "      <td>0</td>\n",
       "      <td>0</td>\n",
       "      <td>0</td>\n",
       "      <td>0</td>\n",
       "      <td>0</td>\n",
       "      <td>0</td>\n",
       "      <td>0</td>\n",
       "    </tr>\n",
       "    <tr>\n",
       "      <th>4</th>\n",
       "      <td>-1</td>\n",
       "      <td>0</td>\n",
       "      <td>1</td>\n",
       "      <td>1</td>\n",
       "      <td>0</td>\n",
       "      <td>0</td>\n",
       "      <td>1</td>\n",
       "      <td>0</td>\n",
       "      <td>0</td>\n",
       "      <td>0</td>\n",
       "      <td>...</td>\n",
       "      <td>0</td>\n",
       "      <td>0</td>\n",
       "      <td>0</td>\n",
       "      <td>0</td>\n",
       "      <td>0</td>\n",
       "      <td>0</td>\n",
       "      <td>0</td>\n",
       "      <td>0</td>\n",
       "      <td>0</td>\n",
       "      <td>0</td>\n",
       "    </tr>\n",
       "    <tr>\n",
       "      <th>5</th>\n",
       "      <td>-1</td>\n",
       "      <td>0</td>\n",
       "      <td>1</td>\n",
       "      <td>1</td>\n",
       "      <td>0</td>\n",
       "      <td>0</td>\n",
       "      <td>0</td>\n",
       "      <td>0</td>\n",
       "      <td>0</td>\n",
       "      <td>0</td>\n",
       "      <td>...</td>\n",
       "      <td>0</td>\n",
       "      <td>0</td>\n",
       "      <td>0</td>\n",
       "      <td>0</td>\n",
       "      <td>0</td>\n",
       "      <td>0</td>\n",
       "      <td>0</td>\n",
       "      <td>0</td>\n",
       "      <td>0</td>\n",
       "      <td>0</td>\n",
       "    </tr>\n",
       "    <tr>\n",
       "      <th>6</th>\n",
       "      <td>1</td>\n",
       "      <td>0</td>\n",
       "      <td>1</td>\n",
       "      <td>1</td>\n",
       "      <td>0</td>\n",
       "      <td>0</td>\n",
       "      <td>0</td>\n",
       "      <td>0</td>\n",
       "      <td>0</td>\n",
       "      <td>0</td>\n",
       "      <td>...</td>\n",
       "      <td>0</td>\n",
       "      <td>0</td>\n",
       "      <td>0</td>\n",
       "      <td>0</td>\n",
       "      <td>0</td>\n",
       "      <td>0</td>\n",
       "      <td>0</td>\n",
       "      <td>0</td>\n",
       "      <td>0</td>\n",
       "      <td>0</td>\n",
       "    </tr>\n",
       "    <tr>\n",
       "      <th>7</th>\n",
       "      <td>-1</td>\n",
       "      <td>0</td>\n",
       "      <td>1</td>\n",
       "      <td>0</td>\n",
       "      <td>0</td>\n",
       "      <td>0</td>\n",
       "      <td>1</td>\n",
       "      <td>0</td>\n",
       "      <td>0</td>\n",
       "      <td>0</td>\n",
       "      <td>...</td>\n",
       "      <td>0</td>\n",
       "      <td>0</td>\n",
       "      <td>0</td>\n",
       "      <td>0</td>\n",
       "      <td>0</td>\n",
       "      <td>0</td>\n",
       "      <td>0</td>\n",
       "      <td>0</td>\n",
       "      <td>0</td>\n",
       "      <td>0</td>\n",
       "    </tr>\n",
       "    <tr>\n",
       "      <th>8</th>\n",
       "      <td>-1</td>\n",
       "      <td>0</td>\n",
       "      <td>1</td>\n",
       "      <td>0</td>\n",
       "      <td>0</td>\n",
       "      <td>0</td>\n",
       "      <td>0</td>\n",
       "      <td>0</td>\n",
       "      <td>0</td>\n",
       "      <td>0</td>\n",
       "      <td>...</td>\n",
       "      <td>0</td>\n",
       "      <td>0</td>\n",
       "      <td>0</td>\n",
       "      <td>0</td>\n",
       "      <td>0</td>\n",
       "      <td>0</td>\n",
       "      <td>0</td>\n",
       "      <td>0</td>\n",
       "      <td>0</td>\n",
       "      <td>0</td>\n",
       "    </tr>\n",
       "    <tr>\n",
       "      <th>9</th>\n",
       "      <td>-1</td>\n",
       "      <td>0</td>\n",
       "      <td>1</td>\n",
       "      <td>1</td>\n",
       "      <td>0</td>\n",
       "      <td>0</td>\n",
       "      <td>1</td>\n",
       "      <td>0</td>\n",
       "      <td>0</td>\n",
       "      <td>0</td>\n",
       "      <td>...</td>\n",
       "      <td>0</td>\n",
       "      <td>0</td>\n",
       "      <td>0</td>\n",
       "      <td>0</td>\n",
       "      <td>0</td>\n",
       "      <td>0</td>\n",
       "      <td>0</td>\n",
       "      <td>0</td>\n",
       "      <td>0</td>\n",
       "      <td>0</td>\n",
       "    </tr>\n",
       "  </tbody>\n",
       "</table>\n",
       "<p>10 rows × 2377 columns</p>\n",
       "</div>"
      ],
      "text/plain": [
       "   spam_ind  brand  and  httpaddr  administr  easier  have  easi  control  \\\n",
       "0         1      1    1         1          1       1     1     1        1   \n",
       "1         1      0    1         0          0       0     1     0        0   \n",
       "2        -1      0    0         1          0       0     0     0        0   \n",
       "3        -1      0    1         1          0       0     1     0        0   \n",
       "4        -1      0    1         1          0       0     1     0        0   \n",
       "5        -1      0    1         1          0       0     0     0        0   \n",
       "6         1      0    1         1          0       0     0     0        0   \n",
       "7        -1      0    1         0          0       0     1     0        0   \n",
       "8        -1      0    1         0          0       0     0     0        0   \n",
       "9        -1      0    1         1          0       0     1     0        0   \n",
       "\n",
       "   biggest  ...    complic  plugin  expos  concept  crazi  chines  approxim  \\\n",
       "0        1  ...          0       0      0        0      0       0         0   \n",
       "1        0  ...          0       0      0        0      0       0         0   \n",
       "2        0  ...          0       0      0        0      0       0         0   \n",
       "3        0  ...          0       0      0        0      0       0         0   \n",
       "4        0  ...          0       0      0        0      0       0         0   \n",
       "5        0  ...          0       0      0        0      0       0         0   \n",
       "6        0  ...          0       0      0        0      0       0         0   \n",
       "7        0  ...          0       0      0        0      0       0         0   \n",
       "8        0  ...          0       0      0        0      0       0         0   \n",
       "9        0  ...          0       0      0        0      0       0         0   \n",
       "\n",
       "   newspap  weapon  invit  \n",
       "0        0       0      0  \n",
       "1        0       0      0  \n",
       "2        0       0      0  \n",
       "3        0       0      0  \n",
       "4        0       0      0  \n",
       "5        0       0      0  \n",
       "6        0       0      0  \n",
       "7        0       0      0  \n",
       "8        0       0      0  \n",
       "9        0       0      0  \n",
       "\n",
       "[10 rows x 2377 columns]"
      ]
     },
     "execution_count": 185,
     "metadata": {},
     "output_type": "execute_result"
    }
   ],
   "source": [
    "train[:10]"
   ]
  },
  {
   "cell_type": "code",
   "execution_count": 186,
   "metadata": {
    "collapsed": true
   },
   "outputs": [],
   "source": [
    "# 3. Implement the functions perceptron_train(data) and perceptron_test(w, data).\n",
    "\n",
    "# The function perceptron train(data) trains a perceptron classifer using the examples\n",
    "# provided to the function, and should return ~w, k, and iter, the final classification vector,\n",
    "# the number of updates (mistakes) performed, and the number of passes through the data, respectively. \n",
    "\n",
    "# You may assume that the input data provided to your function is linearly\n",
    "# separable (so the stopping criterion should be that all points are correctly classified)."
   ]
  },
  {
   "cell_type": "code",
   "execution_count": 187,
   "metadata": {
    "collapsed": true
   },
   "outputs": [],
   "source": [
    "def perceptron_train(data, labels, stop=20):\n",
    "    \n",
    "    prediction = np.zeros((labels.shape), dtype=int)\n",
    "    weightVector = np.zeros((data.shape[1]), dtype=float)\n",
    "    numMistakes = 0\n",
    "    epochs = 0\n",
    "    \n",
    "    for iter in range(0, stop):\n",
    "        for i in range(0, data.shape[0]):\n",
    "            if np.vdot(weightVector, data[i]) >= 0:\n",
    "                prediction[i] = 1\n",
    "            else:\n",
    "                prediction[i] = -1\n",
    "            if prediction[i]*labels[i] == -1:\n",
    "                numMistakes = numMistakes + 1\n",
    "                weightVector = weightVector + labels[i]*data[i]\n",
    "        epochs = epochs+1\n",
    "        if np.min(np.multiply(prediction, labels)) > 0:\n",
    "            break\n",
    "            \n",
    "    return weightVector, numMistakes, epochs"
   ]
  },
  {
   "cell_type": "code",
   "execution_count": 188,
   "metadata": {
    "collapsed": true
   },
   "outputs": [],
   "source": [
    "def perceptron_test(weightVector, data, labels):\n",
    "    numMistakes = 0\n",
    "    prediction = np.zeros((labels.shape), dtype=int)\n",
    "    \n",
    "    # For an actual implementation and not this problem set, re-permute the order of the data examples \n",
    "    # before each iteration\n",
    "    \n",
    "    for i in range(0, data.shape[0]):\n",
    "        if np.vdot(weightVector, data[i]) >= 0:\n",
    "            prediction[i] = 1\n",
    "        else:\n",
    "            prediction[i] = -1\n",
    "        if prediction[i]*labels[i] == -1:\n",
    "            numMistakes = numMistakes + 1\n",
    "    \n",
    "    return float(numMistakes)/data.shape[0]"
   ]
  },
  {
   "cell_type": "code",
   "execution_count": 189,
   "metadata": {},
   "outputs": [
    {
     "data": {
      "text/plain": [
       "(4000, 2376)"
      ]
     },
     "execution_count": 189,
     "metadata": {},
     "output_type": "execute_result"
    }
   ],
   "source": [
    "train.iloc[:, 1:].values.shape"
   ]
  },
  {
   "cell_type": "code",
   "execution_count": 190,
   "metadata": {},
   "outputs": [
    {
     "data": {
      "text/plain": [
       "(4000, 1)"
      ]
     },
     "execution_count": 190,
     "metadata": {},
     "output_type": "execute_result"
    }
   ],
   "source": [
    "train.iloc[:, 0:1].values.shape"
   ]
  },
  {
   "cell_type": "code",
   "execution_count": 191,
   "metadata": {},
   "outputs": [],
   "source": [
    "# 4. Train the linear classifier using your training set. \n",
    "# TO DO: change train.values to select all cols of train EXCEPT spam_int; trainLabels.values\n",
    "w, k, iters = perceptron_train(train.iloc[:, 1:].values, train.iloc[:, 0:1].values)"
   ]
  },
  {
   "cell_type": "code",
   "execution_count": 192,
   "metadata": {},
   "outputs": [
    {
     "name": "stdout",
     "output_type": "stream",
     "text": [
      "447 mistakes are made before the algorithm terminates\n"
     ]
    }
   ],
   "source": [
    "print(str(k)+' mistakes are made before the algorithm terminates')"
   ]
  },
  {
   "cell_type": "code",
   "execution_count": 193,
   "metadata": {},
   "outputs": [
    {
     "name": "stdout",
     "output_type": "stream",
     "text": [
      "The algorithm made 11 passes through the data\n"
     ]
    }
   ],
   "source": [
    "print('The algorithm made '+str(iters)+' passes through the data')"
   ]
  },
  {
   "cell_type": "code",
   "execution_count": 194,
   "metadata": {},
   "outputs": [
    {
     "name": "stdout",
     "output_type": "stream",
     "text": [
      "The training error is 0.0\n"
     ]
    }
   ],
   "source": [
    "# Test your implementation of perceptron test by running it with\n",
    "# the learned parameters and the training data, making sure that the training error is zero.\n",
    "error = perceptron_test(w, train.iloc[:, 1:].values, train.iloc[:, 0:1].values)\n",
    "print('The training error is '+str(error))"
   ]
  },
  {
   "cell_type": "code",
   "execution_count": 195,
   "metadata": {},
   "outputs": [
    {
     "name": "stdout",
     "output_type": "stream",
     "text": [
      "The validation error is 0.02\n"
     ]
    }
   ],
   "source": [
    "# Next, classify the emails in your validation set. What is the validation error?\n",
    "error = perceptron_test(w, validate.iloc[:, 1:].values, validate.iloc[:, 0:1].values)\n",
    "print('The validation error is '+str(error))"
   ]
  },
  {
   "cell_type": "code",
   "execution_count": 196,
   "metadata": {},
   "outputs": [
    {
     "name": "stdout",
     "output_type": "stream",
     "text": [
      "{13.0, 14.0, 15.0, 16.0, 17.0, 19.0}\n",
      "{-15.0, -14.0, -13.0, -12.0, -11.0}\n"
     ]
    }
   ],
   "source": [
    "# 5. To better understand how the spam classifier works, we can inspect the parameters to see\n",
    "# which words the classifier thinks are the most predictive of spam. \n",
    "sortedWeights = np.sort(w)\n",
    "mostPos = set(sortedWeights[-15:])\n",
    "mostNeg = set(sortedWeights[:15])\n",
    "print(mostPos)\n",
    "print(mostNeg)"
   ]
  },
  {
   "cell_type": "code",
   "execution_count": 197,
   "metadata": {},
   "outputs": [
    {
     "name": "stdout",
     "output_type": "stream",
     "text": [
      "13.0, am\n",
      "13.0, major\n",
      "14.0, your\n",
      "14.0, present\n",
      "14.0, ever\n",
      "14.0, deathtospamdeathtospamdeathtospam\n",
      "15.0, these\n",
      "15.0, click\n",
      "15.0, pleas\n",
      "15.0, nbsp\n",
      "15.0, market\n",
      "15.0, guarante\n",
      "16.0, remov\n",
      "16.0, yourself\n",
      "17.0, our\n",
      "19.0, sight\n"
     ]
    }
   ],
   "source": [
    "# Using the vocabulary list together with the parameters learned in the previous question, output the 15 words\n",
    "# with the most positive weights. What are they? \n",
    "        \n",
    "for weight in mostPos:\n",
    "    for i in range(0, len(w)):\n",
    "        if w[i]==weight:\n",
    "            print(str(w[i])+', '+train.columns[1+i])"
   ]
  },
  {
   "cell_type": "code",
   "execution_count": 198,
   "metadata": {},
   "outputs": [
    {
     "name": "stdout",
     "output_type": "stream",
     "text": [
      "-15.0, but\n",
      "-15.0, wrote\n",
      "-15.0, prefer\n",
      "-14.0, and\n",
      "-13.0, i\n",
      "-13.0, reserv\n",
      "-12.0, on\n",
      "-12.0, still\n",
      "-12.0, technolog\n",
      "-11.0, sinc\n",
      "-11.0, copyright\n",
      "-11.0, url\n",
      "-11.0, instead\n",
      "-11.0, upgrad\n",
      "-11.0, recipi\n"
     ]
    }
   ],
   "source": [
    "# Which 15 words have the most negative weights?\n",
    "\n",
    "for weight in mostNeg:\n",
    "    for i in range(0, len(w)):\n",
    "        if w[i] == weight:\n",
    "            print(str(w[i])+', '+train.columns[1+i])"
   ]
  },
  {
   "cell_type": "code",
   "execution_count": 199,
   "metadata": {
    "collapsed": true
   },
   "outputs": [],
   "source": [
    "# 6. Implement the averaged perceptron algorithm, which is the same as your current imple-\n",
    "# mentation but which, rather than returning the final weight vector, returns the average\n",
    "# of all weight vectors considered during the algorithm (including examples where no mis-\n",
    "# take was made). Averaging reduces the variance between the different vectors, and is a\n",
    "# powerful means of preventing the learning algorithm from overfitting (serving as a type of\n",
    "# regularization)."
   ]
  },
  {
   "cell_type": "code",
   "execution_count": 200,
   "metadata": {
    "collapsed": true
   },
   "outputs": [],
   "source": [
    "def avg_perceptron_train(data, labels, stop=20):\n",
    "    \n",
    "    prediction = np.zeros((labels.shape), dtype=int)\n",
    "    weightVector = np.zeros((data.shape[1]), dtype=float)\n",
    "    sumWeightVector = np.zeros((data.shape[1]), dtype=float)\n",
    "    numMistakes = 0\n",
    "    count = 0\n",
    "    epochs = 0\n",
    "    \n",
    "    for iter in range(0, stop):\n",
    "        for i in range(0, data.shape[0]):\n",
    "            if np.vdot(weightVector, data[i]) >= 0:\n",
    "                prediction[i] = 1\n",
    "            else:\n",
    "                prediction[i] = -1\n",
    "            if prediction[i]*labels[i] == -1:\n",
    "                numMistakes = numMistakes + 1\n",
    "                weightVector = weightVector + labels[i]*data[i]\n",
    "            sumWeightVector = np.add(sumWeightVector, weightVector)\n",
    "            count = count+1\n",
    "        epochs = epochs+1\n",
    "        if np.min(np.multiply(prediction, labels)) > 0:\n",
    "            break\n",
    "            \n",
    "    return sumWeightVector/float(count), numMistakes, epochs"
   ]
  },
  {
   "cell_type": "code",
   "execution_count": 201,
   "metadata": {
    "collapsed": true
   },
   "outputs": [],
   "source": [
    "# Train the averaged perceptron classifier using your training set. \n",
    "w, k, iters = avg_perceptron_train(train.iloc[:, 1:].values, train.iloc[:, 0:1].values)"
   ]
  },
  {
   "cell_type": "code",
   "execution_count": 202,
   "metadata": {},
   "outputs": [
    {
     "name": "stdout",
     "output_type": "stream",
     "text": [
      "447\n",
      "11\n"
     ]
    }
   ],
   "source": [
    "# number of mistakes and iterations should be the same\n",
    "print(k)\n",
    "print(iters)"
   ]
  },
  {
   "cell_type": "code",
   "execution_count": 203,
   "metadata": {},
   "outputs": [
    {
     "name": "stdout",
     "output_type": "stream",
     "text": [
      "Training Error: 0.00075\n",
      "Validation Error: 0.018\n"
     ]
    }
   ],
   "source": [
    "# Get error on train & validate sets using averaged perceptron\n",
    "print('Training Error: ' + str(perceptron_test(w, train.iloc[:, 1:].values, train.iloc[:, 0:1].values)))\n",
    "print('Validation Error: ' + str(perceptron_test(w, validate.iloc[:, 1:].values, validate.iloc[:, 0:1].values)))"
   ]
  },
  {
   "cell_type": "code",
   "execution_count": 204,
   "metadata": {
    "collapsed": true
   },
   "outputs": [],
   "source": [
    "# 7. One should expect that the test error decreases as the amount of training data increases.\n",
    "# Using only the first N rows of your training data, run both the perceptron and the averaged\n",
    "# perceptron algorithms on this smaller training set and evaluate the corresponding validation\n",
    "# error (using all of the validation data). Do this for N = 100; 200; 400; 800; 2000; 4000, and\n",
    "# create a plot of the validation error of both algorithms as a function of N."
   ]
  },
  {
   "cell_type": "code",
   "execution_count": 205,
   "metadata": {
    "collapsed": true
   },
   "outputs": [],
   "source": [
    "# run both the perceptron and averaged perceptron on the smaller training sets\n",
    "trainingSizes = [100, 200, 400, 800, 2000, 4000]\n",
    "resultDF = pd.DataFrame(index=trainingSizes, \n",
    "                        columns = ['perceptron training err', 'avg perceptron training err',\n",
    "                                   'perceptron validation err', 'avg perceptron validation err', \n",
    "                                   'perceptron mistakes', 'avg perceptron mistakes',\n",
    "                                   'perceptron iters', 'avg perceptron iters'])\n",
    "resultDF.index.name = 'training size'"
   ]
  },
  {
   "cell_type": "code",
   "execution_count": 206,
   "metadata": {},
   "outputs": [],
   "source": [
    "for N in trainingSizes:\n",
    "    w, k, iters = perceptron_train(train.iloc[:N, 1:].values, train.iloc[:N, 0:1].values)\n",
    "    w_avg, k_avg, iters_avg = avg_perceptron_train(train.iloc[:N, 1:].values, train.iloc[:N, 0:1].values)\n",
    "    resultDF.loc[N]['perceptron training err'] = perceptron_test(w, train.iloc[:N, 1:].values, train.iloc[:N, 0:1].values)\n",
    "    resultDF.loc[N]['avg perceptron training err'] = perceptron_test(w_avg, train.iloc[:N, 1:].values, \n",
    "                                                                          train.iloc[:N, 0:1].values)\n",
    "    resultDF.loc[N]['perceptron validation err'] = perceptron_test(w, validate.iloc[:, 1:].values, validate.iloc[:, 0:1].values)\n",
    "    resultDF.loc[N]['avg perceptron validation err'] = perceptron_test(w_avg, validate.iloc[:, 1:].values, \n",
    "                                                                            validate.iloc[:, 0:1].values)\n",
    "    resultDF.loc[N]['perceptron mistakes'] = k\n",
    "    resultDF.loc[N]['avg perceptron mistakes'] = k_avg\n",
    "    resultDF.loc[N]['perceptron iters'] = iters\n",
    "    resultDF.loc[N]['avg perceptron iters'] = iters_avg"
   ]
  },
  {
   "cell_type": "code",
   "execution_count": 207,
   "metadata": {},
   "outputs": [
    {
     "data": {
      "text/html": [
       "<div>\n",
       "<style>\n",
       "    .dataframe thead tr:only-child th {\n",
       "        text-align: right;\n",
       "    }\n",
       "\n",
       "    .dataframe thead th {\n",
       "        text-align: left;\n",
       "    }\n",
       "\n",
       "    .dataframe tbody tr th {\n",
       "        vertical-align: top;\n",
       "    }\n",
       "</style>\n",
       "<table border=\"1\" class=\"dataframe\">\n",
       "  <thead>\n",
       "    <tr style=\"text-align: right;\">\n",
       "      <th></th>\n",
       "      <th>perceptron training err</th>\n",
       "      <th>avg perceptron training err</th>\n",
       "      <th>perceptron validation err</th>\n",
       "      <th>avg perceptron validation err</th>\n",
       "      <th>perceptron mistakes</th>\n",
       "      <th>avg perceptron mistakes</th>\n",
       "      <th>perceptron iters</th>\n",
       "      <th>avg perceptron iters</th>\n",
       "    </tr>\n",
       "    <tr>\n",
       "      <th>training size</th>\n",
       "      <th></th>\n",
       "      <th></th>\n",
       "      <th></th>\n",
       "      <th></th>\n",
       "      <th></th>\n",
       "      <th></th>\n",
       "      <th></th>\n",
       "      <th></th>\n",
       "    </tr>\n",
       "  </thead>\n",
       "  <tbody>\n",
       "    <tr>\n",
       "      <th>100</th>\n",
       "      <td>0</td>\n",
       "      <td>0</td>\n",
       "      <td>0.076</td>\n",
       "      <td>0.083</td>\n",
       "      <td>32</td>\n",
       "      <td>32</td>\n",
       "      <td>6</td>\n",
       "      <td>6</td>\n",
       "    </tr>\n",
       "    <tr>\n",
       "      <th>200</th>\n",
       "      <td>0</td>\n",
       "      <td>0.01</td>\n",
       "      <td>0.074</td>\n",
       "      <td>0.07</td>\n",
       "      <td>39</td>\n",
       "      <td>39</td>\n",
       "      <td>3</td>\n",
       "      <td>3</td>\n",
       "    </tr>\n",
       "    <tr>\n",
       "      <th>400</th>\n",
       "      <td>0</td>\n",
       "      <td>0</td>\n",
       "      <td>0.041</td>\n",
       "      <td>0.036</td>\n",
       "      <td>84</td>\n",
       "      <td>84</td>\n",
       "      <td>6</td>\n",
       "      <td>6</td>\n",
       "    </tr>\n",
       "    <tr>\n",
       "      <th>800</th>\n",
       "      <td>0</td>\n",
       "      <td>0.00125</td>\n",
       "      <td>0.026</td>\n",
       "      <td>0.027</td>\n",
       "      <td>111</td>\n",
       "      <td>111</td>\n",
       "      <td>5</td>\n",
       "      <td>5</td>\n",
       "    </tr>\n",
       "    <tr>\n",
       "      <th>2000</th>\n",
       "      <td>0</td>\n",
       "      <td>0.0005</td>\n",
       "      <td>0.024</td>\n",
       "      <td>0.021</td>\n",
       "      <td>259</td>\n",
       "      <td>259</td>\n",
       "      <td>11</td>\n",
       "      <td>11</td>\n",
       "    </tr>\n",
       "    <tr>\n",
       "      <th>4000</th>\n",
       "      <td>0</td>\n",
       "      <td>0.00075</td>\n",
       "      <td>0.02</td>\n",
       "      <td>0.018</td>\n",
       "      <td>447</td>\n",
       "      <td>447</td>\n",
       "      <td>11</td>\n",
       "      <td>11</td>\n",
       "    </tr>\n",
       "  </tbody>\n",
       "</table>\n",
       "</div>"
      ],
      "text/plain": [
       "              perceptron training err avg perceptron training err  \\\n",
       "training size                                                       \n",
       "100                                 0                           0   \n",
       "200                                 0                        0.01   \n",
       "400                                 0                           0   \n",
       "800                                 0                     0.00125   \n",
       "2000                                0                      0.0005   \n",
       "4000                                0                     0.00075   \n",
       "\n",
       "              perceptron validation err avg perceptron validation err  \\\n",
       "training size                                                           \n",
       "100                               0.076                         0.083   \n",
       "200                               0.074                          0.07   \n",
       "400                               0.041                         0.036   \n",
       "800                               0.026                         0.027   \n",
       "2000                              0.024                         0.021   \n",
       "4000                               0.02                         0.018   \n",
       "\n",
       "              perceptron mistakes avg perceptron mistakes perceptron iters  \\\n",
       "training size                                                                \n",
       "100                            32                      32                6   \n",
       "200                            39                      39                3   \n",
       "400                            84                      84                6   \n",
       "800                           111                     111                5   \n",
       "2000                          259                     259               11   \n",
       "4000                          447                     447               11   \n",
       "\n",
       "              avg perceptron iters  \n",
       "training size                       \n",
       "100                              6  \n",
       "200                              3  \n",
       "400                              6  \n",
       "800                              5  \n",
       "2000                            11  \n",
       "4000                            11  "
      ]
     },
     "execution_count": 207,
     "metadata": {},
     "output_type": "execute_result"
    }
   ],
   "source": [
    "resultDF"
   ]
  },
  {
   "cell_type": "code",
   "execution_count": 208,
   "metadata": {},
   "outputs": [
    {
     "data": {
      "image/png": "[encoded data removed]",
      "text/plain": [
       "<matplotlib.figure.Figure at 0x2b7ca21a080>"
      ]
     },
     "metadata": {},
     "output_type": "display_data"
    }
   ],
   "source": [
    "fig, ax = plt.subplots()\n",
    "ax.plot(trainingSizes, resultDF['perceptron validation err'], 'bo-', label = 'Perceptron')\n",
    "ax.plot(trainingSizes, resultDF['avg perceptron validation err'], 'gD-', label = 'Averaged Perceptron')\n",
    "ax.legend(loc='upper right')\n",
    "plt.xlabel('Size of Training Set')\n",
    "plt.ylabel('Validation Error')\n",
    "plt.title('Validation Error for Perceptron Algorithm by Size of Training Set')\n",
    "plt.show()"
   ]
  },
  {
   "cell_type": "code",
   "execution_count": 209,
   "metadata": {
    "collapsed": true
   },
   "outputs": [],
   "source": [
    "# 8. Also for N = 100; 200; 400; 800; 2000; 4000, create a plot of the number of perceptron\n",
    "# iterations as a function of N, where by iteration we mean a complete pass through the\n",
    "# training data. As the amount of training data increases, the margin of the training set\n",
    "# decreases, which generally leads to an increase in the number of iterations perceptron takes\n",
    "# to converge (although it need not be monotonic)."
   ]
  },
  {
   "cell_type": "code",
   "execution_count": 210,
   "metadata": {},
   "outputs": [
    {
     "data": {
      "image/png": "[encoded data removed]",
      "text/plain": [
       "<matplotlib.figure.Figure at 0x2b7cee0b7f0>"
      ]
     },
     "metadata": {},
     "output_type": "display_data"
    }
   ],
   "source": [
    "fig, ax = plt.subplots()\n",
    "ax.set_xlim(0, 4000)\n",
    "ax.set_ylim(0, 20)\n",
    "ax.plot(trainingSizes, resultDF['perceptron iters'], 'bo-', label = 'Perceptron')\n",
    "ax.legend(loc='upper right')\n",
    "plt.xlabel('size of training set')\n",
    "plt.ylabel('number of iterations')\n",
    "plt.title('Number of Iterations for Perceptron by Size of Training Set')\n",
    "plt.show()"
   ]
  },
  {
   "cell_type": "code",
   "execution_count": 211,
   "metadata": {
    "collapsed": true
   },
   "outputs": [],
   "source": [
    "# 9. One consequence of this is that the later iterations typically perform updates on only a\n",
    "# small subset of the data points, which can contribute to overfitting. A way to solve this\n",
    "# is to control the maximum number of iterations of the perceptron algorithm. Add an\n",
    "# argument to both the perceptron and averaged perceptron algorithms that controls the\n",
    "# maximum number of passes over the data.\n",
    "\n",
    "# reflected above as parameter stop (default value = 20)"
   ]
  },
  {
   "cell_type": "code",
   "execution_count": 212,
   "metadata": {
    "collapsed": true
   },
   "outputs": [],
   "source": [
    "# 10. Congratulations, you now understand various properties of the perceptron algorithm. Try\n",
    "# various configurations of the algorithms on your own using all 4000 training points, and\n",
    "# find a good configuration having a low error on your validation set. In particular, try\n",
    "# changing the choice of perceptron algorithm and the maximum number of iterations."
   ]
  },
  {
   "cell_type": "code",
   "execution_count": 213,
   "metadata": {},
   "outputs": [],
   "source": [
    "max_iters = np.arange(1, 12)"
   ]
  },
  {
   "cell_type": "code",
   "execution_count": 214,
   "metadata": {},
   "outputs": [],
   "source": [
    "resultDF = pd.DataFrame(index=max_iters, columns=['perceptron train err', 'perceptron validation err',\n",
    "                                                  'avg perceptron train err', 'avg perceptron validation err',\n",
    "                                                  'perceptron mistakes', 'avg perceptron mistakes',\n",
    "                                                  'perceptron iters', 'avg perceptron iters'])\n",
    "resultDF.index.name = 'maximum iterations'"
   ]
  },
  {
   "cell_type": "code",
   "execution_count": 215,
   "metadata": {
    "collapsed": true
   },
   "outputs": [],
   "source": [
    "for theta in max_iters:\n",
    "    w, k, iters = perceptron_train(train.iloc[:, 1:].values, train.iloc[:, 0:1].values, stop=theta)\n",
    "    w_avg, k_avg, iters_avg = avg_perceptron_train(train.iloc[:, 1:].values, train.iloc[:, 0:1].values, stop=theta)\n",
    "    resultDF.loc[theta]['perceptron train err'] = perceptron_test(w, train.iloc[:, 1:].values, train.iloc[:, 0:1].values)\n",
    "    resultDF.loc[theta]['avg perceptron train err'] = perceptron_test(w_avg, train.iloc[:, 1:].values, \n",
    "                                                                          train.iloc[:, 0:1].values)\n",
    "    resultDF.loc[theta]['perceptron validation err'] = perceptron_test(w, validate.iloc[:, 1:].values, validate.iloc[:, 0:1].values)\n",
    "    resultDF.loc[theta]['avg perceptron validation err'] = perceptron_test(w_avg, validate.iloc[:, 1:].values, \n",
    "                                                                            validate.iloc[:, 0:1].values)\n",
    "    resultDF.loc[theta]['perceptron mistakes'] = k\n",
    "    resultDF.loc[theta]['avg perceptron mistakes'] = k_avg\n",
    "    resultDF.loc[theta]['perceptron iters'] = iters\n",
    "    resultDF.loc[theta]['avg perceptron iters'] = iters_avg"
   ]
  },
  {
   "cell_type": "code",
   "execution_count": 216,
   "metadata": {},
   "outputs": [
    {
     "data": {
      "text/html": [
       "<div>\n",
       "<style>\n",
       "    .dataframe thead tr:only-child th {\n",
       "        text-align: right;\n",
       "    }\n",
       "\n",
       "    .dataframe thead th {\n",
       "        text-align: left;\n",
       "    }\n",
       "\n",
       "    .dataframe tbody tr th {\n",
       "        vertical-align: top;\n",
       "    }\n",
       "</style>\n",
       "<table border=\"1\" class=\"dataframe\">\n",
       "  <thead>\n",
       "    <tr style=\"text-align: right;\">\n",
       "      <th></th>\n",
       "      <th>perceptron train err</th>\n",
       "      <th>perceptron validation err</th>\n",
       "      <th>avg perceptron train err</th>\n",
       "      <th>avg perceptron validation err</th>\n",
       "      <th>perceptron mistakes</th>\n",
       "      <th>avg perceptron mistakes</th>\n",
       "      <th>perceptron iters</th>\n",
       "      <th>avg perceptron iters</th>\n",
       "    </tr>\n",
       "    <tr>\n",
       "      <th>maximum iterations</th>\n",
       "      <th></th>\n",
       "      <th></th>\n",
       "      <th></th>\n",
       "      <th></th>\n",
       "      <th></th>\n",
       "      <th></th>\n",
       "      <th></th>\n",
       "      <th></th>\n",
       "    </tr>\n",
       "  </thead>\n",
       "  <tbody>\n",
       "    <tr>\n",
       "      <th>1</th>\n",
       "      <td>0.0175</td>\n",
       "      <td>0.028</td>\n",
       "      <td>0.013</td>\n",
       "      <td>0.02</td>\n",
       "      <td>237</td>\n",
       "      <td>237</td>\n",
       "      <td>1</td>\n",
       "      <td>1</td>\n",
       "    </tr>\n",
       "    <tr>\n",
       "      <th>2</th>\n",
       "      <td>0.01225</td>\n",
       "      <td>0.029</td>\n",
       "      <td>0.00725</td>\n",
       "      <td>0.018</td>\n",
       "      <td>319</td>\n",
       "      <td>319</td>\n",
       "      <td>2</td>\n",
       "      <td>2</td>\n",
       "    </tr>\n",
       "    <tr>\n",
       "      <th>3</th>\n",
       "      <td>0.0275</td>\n",
       "      <td>0.047</td>\n",
       "      <td>0.00475</td>\n",
       "      <td>0.017</td>\n",
       "      <td>357</td>\n",
       "      <td>357</td>\n",
       "      <td>3</td>\n",
       "      <td>3</td>\n",
       "    </tr>\n",
       "    <tr>\n",
       "      <th>4</th>\n",
       "      <td>0.0035</td>\n",
       "      <td>0.018</td>\n",
       "      <td>0.00375</td>\n",
       "      <td>0.017</td>\n",
       "      <td>393</td>\n",
       "      <td>393</td>\n",
       "      <td>4</td>\n",
       "      <td>4</td>\n",
       "    </tr>\n",
       "    <tr>\n",
       "      <th>5</th>\n",
       "      <td>0.00675</td>\n",
       "      <td>0.027</td>\n",
       "      <td>0.002</td>\n",
       "      <td>0.016</td>\n",
       "      <td>408</td>\n",
       "      <td>408</td>\n",
       "      <td>5</td>\n",
       "      <td>5</td>\n",
       "    </tr>\n",
       "    <tr>\n",
       "      <th>6</th>\n",
       "      <td>0.001</td>\n",
       "      <td>0.024</td>\n",
       "      <td>0.00175</td>\n",
       "      <td>0.017</td>\n",
       "      <td>413</td>\n",
       "      <td>413</td>\n",
       "      <td>6</td>\n",
       "      <td>6</td>\n",
       "    </tr>\n",
       "    <tr>\n",
       "      <th>7</th>\n",
       "      <td>0.00075</td>\n",
       "      <td>0.02</td>\n",
       "      <td>0.0015</td>\n",
       "      <td>0.018</td>\n",
       "      <td>418</td>\n",
       "      <td>418</td>\n",
       "      <td>7</td>\n",
       "      <td>7</td>\n",
       "    </tr>\n",
       "    <tr>\n",
       "      <th>8</th>\n",
       "      <td>0.00275</td>\n",
       "      <td>0.025</td>\n",
       "      <td>0.00125</td>\n",
       "      <td>0.018</td>\n",
       "      <td>431</td>\n",
       "      <td>431</td>\n",
       "      <td>8</td>\n",
       "      <td>8</td>\n",
       "    </tr>\n",
       "    <tr>\n",
       "      <th>9</th>\n",
       "      <td>0.00025</td>\n",
       "      <td>0.02</td>\n",
       "      <td>0.001</td>\n",
       "      <td>0.017</td>\n",
       "      <td>444</td>\n",
       "      <td>444</td>\n",
       "      <td>9</td>\n",
       "      <td>9</td>\n",
       "    </tr>\n",
       "    <tr>\n",
       "      <th>10</th>\n",
       "      <td>0</td>\n",
       "      <td>0.02</td>\n",
       "      <td>0.001</td>\n",
       "      <td>0.016</td>\n",
       "      <td>447</td>\n",
       "      <td>447</td>\n",
       "      <td>10</td>\n",
       "      <td>10</td>\n",
       "    </tr>\n",
       "    <tr>\n",
       "      <th>11</th>\n",
       "      <td>0</td>\n",
       "      <td>0.02</td>\n",
       "      <td>0.00075</td>\n",
       "      <td>0.018</td>\n",
       "      <td>447</td>\n",
       "      <td>447</td>\n",
       "      <td>11</td>\n",
       "      <td>11</td>\n",
       "    </tr>\n",
       "  </tbody>\n",
       "</table>\n",
       "</div>"
      ],
      "text/plain": [
       "                   perceptron train err perceptron validation err  \\\n",
       "maximum iterations                                                  \n",
       "1                                0.0175                     0.028   \n",
       "2                               0.01225                     0.029   \n",
       "3                                0.0275                     0.047   \n",
       "4                                0.0035                     0.018   \n",
       "5                               0.00675                     0.027   \n",
       "6                                 0.001                     0.024   \n",
       "7                               0.00075                      0.02   \n",
       "8                               0.00275                     0.025   \n",
       "9                               0.00025                      0.02   \n",
       "10                                    0                      0.02   \n",
       "11                                    0                      0.02   \n",
       "\n",
       "                   avg perceptron train err avg perceptron validation err  \\\n",
       "maximum iterations                                                          \n",
       "1                                     0.013                          0.02   \n",
       "2                                   0.00725                         0.018   \n",
       "3                                   0.00475                         0.017   \n",
       "4                                   0.00375                         0.017   \n",
       "5                                     0.002                         0.016   \n",
       "6                                   0.00175                         0.017   \n",
       "7                                    0.0015                         0.018   \n",
       "8                                   0.00125                         0.018   \n",
       "9                                     0.001                         0.017   \n",
       "10                                    0.001                         0.016   \n",
       "11                                  0.00075                         0.018   \n",
       "\n",
       "                   perceptron mistakes avg perceptron mistakes  \\\n",
       "maximum iterations                                               \n",
       "1                                  237                     237   \n",
       "2                                  319                     319   \n",
       "3                                  357                     357   \n",
       "4                                  393                     393   \n",
       "5                                  408                     408   \n",
       "6                                  413                     413   \n",
       "7                                  418                     418   \n",
       "8                                  431                     431   \n",
       "9                                  444                     444   \n",
       "10                                 447                     447   \n",
       "11                                 447                     447   \n",
       "\n",
       "                   perceptron iters avg perceptron iters  \n",
       "maximum iterations                                        \n",
       "1                                 1                    1  \n",
       "2                                 2                    2  \n",
       "3                                 3                    3  \n",
       "4                                 4                    4  \n",
       "5                                 5                    5  \n",
       "6                                 6                    6  \n",
       "7                                 7                    7  \n",
       "8                                 8                    8  \n",
       "9                                 9                    9  \n",
       "10                               10                   10  \n",
       "11                               11                   11  "
      ]
     },
     "execution_count": 216,
     "metadata": {},
     "output_type": "execute_result"
    }
   ],
   "source": [
    "resultDF"
   ]
  },
  {
   "cell_type": "code",
   "execution_count": 217,
   "metadata": {},
   "outputs": [
    {
     "data": {
      "image/png": "[encoded data removed]",
      "text/plain": [
       "<matplotlib.figure.Figure at 0x2b7cee179e8>"
      ]
     },
     "metadata": {},
     "output_type": "display_data"
    }
   ],
   "source": [
    "fig, ax = plt.subplots()\n",
    "ax.set_xlim(0, 15)\n",
    "ax.set_ylim(0, .05)\n",
    "ax.plot(max_iters, resultDF['perceptron validation err'], 'bo-', label = 'Perceptron - Validation Error')\n",
    "ax.plot(max_iters, resultDF['avg perceptron validation err'], 'gD-', label = 'Averaged Perceptron - Validation Error')\n",
    "ax.plot(max_iters, resultDF['perceptron train err'], 'b.--', label = 'Perceptron - Training Error')\n",
    "ax.plot(max_iters, resultDF['avg perceptron train err'], 'gd--', label = 'Averaged Perceptron - Training Error')\n",
    "ax.legend(loc='upper right')\n",
    "plt.xlabel('maximum iterations')\n",
    "plt.ylabel('error')\n",
    "plt.title('Error for Perceptron Algorithm by Maximum Iterations Allowed')\n",
    "plt.show()"
   ]
  },
  {
   "cell_type": "code",
   "execution_count": 218,
   "metadata": {},
   "outputs": [
    {
     "name": "stdout",
     "output_type": "stream",
     "text": [
      "From chart, averaged perceptron validation error is always less than perceptron validation error.\n",
      "Minimum averaged perceptron validation error is 0.016.\n"
     ]
    }
   ],
   "source": [
    "# Report the validation error for several of the configurations that you tried; \n",
    "# which configuration works best?\n",
    "\n",
    "print('From chart, averaged perceptron validation error is always less than perceptron validation error.')\n",
    "print('Minimum averaged perceptron validation error is '+str(resultDF['avg perceptron validation err'].min())+'.')"
   ]
  },
  {
   "cell_type": "code",
   "execution_count": 219,
   "metadata": {},
   "outputs": [
    {
     "data": {
      "text/html": [
       "<div>\n",
       "<style>\n",
       "    .dataframe thead tr:only-child th {\n",
       "        text-align: right;\n",
       "    }\n",
       "\n",
       "    .dataframe thead th {\n",
       "        text-align: left;\n",
       "    }\n",
       "\n",
       "    .dataframe tbody tr th {\n",
       "        vertical-align: top;\n",
       "    }\n",
       "</style>\n",
       "<table border=\"1\" class=\"dataframe\">\n",
       "  <thead>\n",
       "    <tr style=\"text-align: right;\">\n",
       "      <th></th>\n",
       "      <th>perceptron train err</th>\n",
       "      <th>perceptron validation err</th>\n",
       "      <th>avg perceptron train err</th>\n",
       "      <th>avg perceptron validation err</th>\n",
       "      <th>perceptron mistakes</th>\n",
       "      <th>avg perceptron mistakes</th>\n",
       "      <th>perceptron iters</th>\n",
       "      <th>avg perceptron iters</th>\n",
       "    </tr>\n",
       "    <tr>\n",
       "      <th>maximum iterations</th>\n",
       "      <th></th>\n",
       "      <th></th>\n",
       "      <th></th>\n",
       "      <th></th>\n",
       "      <th></th>\n",
       "      <th></th>\n",
       "      <th></th>\n",
       "      <th></th>\n",
       "    </tr>\n",
       "  </thead>\n",
       "  <tbody>\n",
       "    <tr>\n",
       "      <th>5</th>\n",
       "      <td>0.00675</td>\n",
       "      <td>0.027</td>\n",
       "      <td>0.002</td>\n",
       "      <td>0.016</td>\n",
       "      <td>408</td>\n",
       "      <td>408</td>\n",
       "      <td>5</td>\n",
       "      <td>5</td>\n",
       "    </tr>\n",
       "    <tr>\n",
       "      <th>10</th>\n",
       "      <td>0</td>\n",
       "      <td>0.02</td>\n",
       "      <td>0.001</td>\n",
       "      <td>0.016</td>\n",
       "      <td>447</td>\n",
       "      <td>447</td>\n",
       "      <td>10</td>\n",
       "      <td>10</td>\n",
       "    </tr>\n",
       "  </tbody>\n",
       "</table>\n",
       "</div>"
      ],
      "text/plain": [
       "                   perceptron train err perceptron validation err  \\\n",
       "maximum iterations                                                  \n",
       "5                               0.00675                     0.027   \n",
       "10                                    0                      0.02   \n",
       "\n",
       "                   avg perceptron train err avg perceptron validation err  \\\n",
       "maximum iterations                                                          \n",
       "5                                     0.002                         0.016   \n",
       "10                                    0.001                         0.016   \n",
       "\n",
       "                   perceptron mistakes avg perceptron mistakes  \\\n",
       "maximum iterations                                               \n",
       "5                                  408                     408   \n",
       "10                                 447                     447   \n",
       "\n",
       "                   perceptron iters avg perceptron iters  \n",
       "maximum iterations                                        \n",
       "5                                 5                    5  \n",
       "10                               10                   10  "
      ]
     },
     "execution_count": 219,
     "metadata": {},
     "output_type": "execute_result"
    }
   ],
   "source": [
    "resultDF[resultDF['avg perceptron validation err']==0.016]"
   ]
  },
  {
   "cell_type": "code",
   "execution_count": 220,
   "metadata": {},
   "outputs": [
    {
     "name": "stdout",
     "output_type": "stream",
     "text": [
      "Smallest validation error for averaged perceptron occurs at maximum iterations 5 and 10. Choose max iterations to be 5;\n",
      "no additional accuracy is obtained from further iterations and more computation time is used.\n"
     ]
    }
   ],
   "source": [
    "print('Smallest validation error for averaged perceptron occurs at maximum iterations 5 and 10. Choose max iterations to be 5;')\n",
    "print('no additional accuracy is obtained from further iterations and more computation time is used.')"
   ]
  },
  {
   "cell_type": "code",
   "execution_count": 221,
   "metadata": {
    "collapsed": true
   },
   "outputs": [],
   "source": [
    "# You are ready to train on the full training set, and see if it works on completely new data.\n",
    "# Combine the training set and the validation set (i.e. use all of spam train.txt) and learn\n",
    "# using the best of the configurations previously found. What is the error on the test set\n",
    "# (i.e., now you finally use spam test.txt)?"
   ]
  },
  {
   "cell_type": "code",
   "execution_count": 222,
   "metadata": {},
   "outputs": [
    {
     "data": {
      "text/plain": [
       "RangeIndex(start=0, stop=4000, step=1)"
      ]
     },
     "execution_count": 222,
     "metadata": {},
     "output_type": "execute_result"
    }
   ],
   "source": [
    "train.index"
   ]
  },
  {
   "cell_type": "code",
   "execution_count": 223,
   "metadata": {},
   "outputs": [
    {
     "data": {
      "text/plain": [
       "RangeIndex(start=4000, stop=5000, step=1)"
      ]
     },
     "execution_count": 223,
     "metadata": {},
     "output_type": "execute_result"
    }
   ],
   "source": [
    "validate.index"
   ]
  },
  {
   "cell_type": "code",
   "execution_count": 224,
   "metadata": {},
   "outputs": [],
   "source": [
    "train = train.append(validate)"
   ]
  },
  {
   "cell_type": "code",
   "execution_count": 225,
   "metadata": {
    "collapsed": true
   },
   "outputs": [],
   "source": [
    "w, k, iters = avg_perceptron_train(train.iloc[:, 1:].values, train.iloc[:, 0:1].values, stop=5)"
   ]
  },
  {
   "cell_type": "code",
   "execution_count": 226,
   "metadata": {},
   "outputs": [],
   "source": [
    "trainingError = perceptron_test(w, train.iloc[:, 1:].values, train.iloc[:, 0:1].values)"
   ]
  },
  {
   "cell_type": "code",
   "execution_count": 227,
   "metadata": {},
   "outputs": [
    {
     "data": {
      "text/html": [
       "<div>\n",
       "<style>\n",
       "    .dataframe thead tr:only-child th {\n",
       "        text-align: right;\n",
       "    }\n",
       "\n",
       "    .dataframe thead th {\n",
       "        text-align: left;\n",
       "    }\n",
       "\n",
       "    .dataframe tbody tr th {\n",
       "        vertical-align: top;\n",
       "    }\n",
       "</style>\n",
       "<table border=\"1\" class=\"dataframe\">\n",
       "  <thead>\n",
       "    <tr style=\"text-align: right;\">\n",
       "      <th></th>\n",
       "      <th>spam_ind</th>\n",
       "      <th>email_data</th>\n",
       "    </tr>\n",
       "  </thead>\n",
       "  <tbody>\n",
       "    <tr>\n",
       "      <th>0</th>\n",
       "      <td>1</td>\n",
       "      <td>thi e mail ad is be sent in full complianc wi...</td>\n",
       "    </tr>\n",
       "    <tr>\n",
       "      <th>1</th>\n",
       "      <td>-1</td>\n",
       "      <td>i ve got a test set here that s the last numb...</td>\n",
       "    </tr>\n",
       "    <tr>\n",
       "      <th>2</th>\n",
       "      <td>-1</td>\n",
       "      <td>bonjour i m writ a python script in order to ...</td>\n",
       "    </tr>\n",
       "    <tr>\n",
       "      <th>3</th>\n",
       "      <td>1</td>\n",
       "      <td>hello unlimit intern telephon call market if ...</td>\n",
       "    </tr>\n",
       "    <tr>\n",
       "      <th>4</th>\n",
       "      <td>-1</td>\n",
       "      <td>it seem that an email consist of a singl line...</td>\n",
       "    </tr>\n",
       "    <tr>\n",
       "      <th>5</th>\n",
       "      <td>-1</td>\n",
       "      <td>bill stoddard wrote chuck murcko wrote heh te...</td>\n",
       "    </tr>\n",
       "    <tr>\n",
       "      <th>6</th>\n",
       "      <td>1</td>\n",
       "      <td>public announc the new name domain extens is ...</td>\n",
       "    </tr>\n",
       "    <tr>\n",
       "      <th>7</th>\n",
       "      <td>1</td>\n",
       "      <td>nbsp dear homeown nbsp number number number y...</td>\n",
       "    </tr>\n",
       "    <tr>\n",
       "      <th>8</th>\n",
       "      <td>-1</td>\n",
       "      <td>you should not be report spam to number numbe...</td>\n",
       "    </tr>\n",
       "    <tr>\n",
       "      <th>9</th>\n",
       "      <td>-1</td>\n",
       "      <td>number number javamail administr webnumb cont...</td>\n",
       "    </tr>\n",
       "  </tbody>\n",
       "</table>\n",
       "</div>"
      ],
      "text/plain": [
       "   spam_ind                                         email_data\n",
       "0         1   thi e mail ad is be sent in full complianc wi...\n",
       "1        -1   i ve got a test set here that s the last numb...\n",
       "2        -1   bonjour i m writ a python script in order to ...\n",
       "3         1   hello unlimit intern telephon call market if ...\n",
       "4        -1   it seem that an email consist of a singl line...\n",
       "5        -1   bill stoddard wrote chuck murcko wrote heh te...\n",
       "6         1   public announc the new name domain extens is ...\n",
       "7         1   nbsp dear homeown nbsp number number number y...\n",
       "8        -1   you should not be report spam to number numbe...\n",
       "9        -1   number number javamail administr webnumb cont..."
      ]
     },
     "execution_count": 227,
     "metadata": {},
     "output_type": "execute_result"
    }
   ],
   "source": [
    "testIn[:10]"
   ]
  },
  {
   "cell_type": "code",
   "execution_count": 228,
   "metadata": {},
   "outputs": [
    {
     "name": "stdout",
     "output_type": "stream",
     "text": [
      "Test Set Summary:\n"
     ]
    },
    {
     "data": {
      "text/html": [
       "<div>\n",
       "<style>\n",
       "    .dataframe thead tr:only-child th {\n",
       "        text-align: right;\n",
       "    }\n",
       "\n",
       "    .dataframe thead th {\n",
       "        text-align: left;\n",
       "    }\n",
       "\n",
       "    .dataframe tbody tr th {\n",
       "        vertical-align: top;\n",
       "    }\n",
       "</style>\n",
       "<table border=\"1\" class=\"dataframe\">\n",
       "  <thead>\n",
       "    <tr style=\"text-align: right;\">\n",
       "      <th></th>\n",
       "      <th>spam_ind_count</th>\n",
       "      <th>spam_ind_pct</th>\n",
       "    </tr>\n",
       "  </thead>\n",
       "  <tbody>\n",
       "    <tr>\n",
       "      <th>-1</th>\n",
       "      <td>693</td>\n",
       "      <td>0.693</td>\n",
       "    </tr>\n",
       "    <tr>\n",
       "      <th>1</th>\n",
       "      <td>307</td>\n",
       "      <td>0.307</td>\n",
       "    </tr>\n",
       "  </tbody>\n",
       "</table>\n",
       "</div>"
      ],
      "text/plain": [
       "    spam_ind_count  spam_ind_pct\n",
       "-1             693         0.693\n",
       " 1             307         0.307"
      ]
     },
     "execution_count": 228,
     "metadata": {},
     "output_type": "execute_result"
    }
   ],
   "source": [
    "testSumm = pd.merge(pd.DataFrame(testIn['spam_ind'].value_counts()), pd.DataFrame(testIn['spam_ind'].value_counts(normalize=True)),\n",
    "                        suffixes=('_count', '_pct'), left_index=True, right_index=True)\n",
    "print('Test Set Summary:')\n",
    "testSumm"
   ]
  },
  {
   "cell_type": "code",
   "execution_count": 229,
   "metadata": {
    "collapsed": true
   },
   "outputs": [],
   "source": [
    "testFeatures = np.empty((testIn['email_data'].size, len(narrowedVocab.keys())), dtype=int)"
   ]
  },
  {
   "cell_type": "code",
   "execution_count": 230,
   "metadata": {
    "collapsed": true
   },
   "outputs": [],
   "source": [
    "for i in range(0, testIn['email_data'].size):\n",
    "    j=0\n",
    "    split_word = set(testIn['email_data'][i].split())\n",
    "    for word in words:\n",
    "        if word in split_word:\n",
    "            testFeatures[i][j] = 1\n",
    "        else:\n",
    "            testFeatures[i][j] = 0\n",
    "        j = j+1"
   ]
  },
  {
   "cell_type": "code",
   "execution_count": 231,
   "metadata": {},
   "outputs": [
    {
     "name": "stdout",
     "output_type": "stream",
     "text": [
      "(1000, 2376)\n",
      "[ 15 779 767 ...,   7   5  13]\n",
      "(2376,)\n",
      "0\n"
     ]
    }
   ],
   "source": [
    "print(testFeatures.shape)\n",
    "print(testFeatures.sum(axis=0))\n",
    "print(testFeatures.sum(axis=0).shape)\n",
    "print(testFeatures.sum(axis=0).min())"
   ]
  },
  {
   "cell_type": "code",
   "execution_count": 232,
   "metadata": {
    "collapsed": true
   },
   "outputs": [],
   "source": [
    "# put array values into data frames\n",
    "ind = 0\n",
    "for word in narrowedVocab.keys():\n",
    "    testIn[word]=testFeatures[:,ind]\n",
    "    ind = ind + 1"
   ]
  },
  {
   "cell_type": "code",
   "execution_count": 233,
   "metadata": {
    "collapsed": true
   },
   "outputs": [],
   "source": [
    "del testIn['email_data']"
   ]
  },
  {
   "cell_type": "code",
   "execution_count": 234,
   "metadata": {},
   "outputs": [],
   "source": [
    "testError = perceptron_test(w, testIn.iloc[:, 1:].values, testIn.iloc[:, 0:1].values)"
   ]
  },
  {
   "cell_type": "code",
   "execution_count": 235,
   "metadata": {},
   "outputs": [
    {
     "name": "stdout",
     "output_type": "stream",
     "text": [
      "Error on full training set was 0.0026.\n",
      "Error on test set was 0.019.\n"
     ]
    }
   ],
   "source": [
    "print('Error on full training set was '+str(trainingError)+'.')\n",
    "print('Error on test set was '+str(testError)+'.')"
   ]
  },
  {
   "cell_type": "code",
   "execution_count": null,
   "metadata": {
    "collapsed": true
   },
   "outputs": [],
   "source": []
  }
 ],
 "metadata": {
  "kernelspec": {
   "display_name": "Python 3",
   "language": "python",
   "name": "python3"
  },
  "language_info": {
   "codemirror_mode": {
    "name": "ipython",
    "version": 3
   },
   "file_extension": ".py",
   "mimetype": "text/x-python",
   "name": "python",
   "nbconvert_exporter": "python",
   "pygments_lexer": "ipython3",
   "version": "3.6.1"
  }
 },
 "nbformat": 4,
 "nbformat_minor": 1
}
